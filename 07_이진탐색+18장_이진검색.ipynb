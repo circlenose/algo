{
  "nbformat": 4,
  "nbformat_minor": 0,
  "metadata": {
    "colab": {
      "name": "07.이진탐색+18장.이진검색.ipynb",
      "provenance": [],
      "authorship_tag": "ABX9TyOG5iCE4/0lXjTSc3J43DHj",
      "include_colab_link": true
    },
    "kernelspec": {
      "name": "python3",
      "display_name": "Python 3"
    },
    "language_info": {
      "name": "python"
    }
  },
  "cells": [
    {
      "cell_type": "markdown",
      "metadata": {
        "id": "view-in-github",
        "colab_type": "text"
      },
      "source": [
        "<a href=\"https://colab.research.google.com/github/circlenose/algo/blob/main/07_%EC%9D%B4%EC%A7%84%ED%83%90%EC%83%89%2B18%EC%9E%A5_%EC%9D%B4%EC%A7%84%EA%B2%80%EC%83%89.ipynb\" target=\"_parent\"><img src=\"https://colab.research.google.com/assets/colab-badge.svg\" alt=\"Open In Colab\"/></a>"
      ]
    },
    {
      "cell_type": "markdown",
      "source": [
        "순서\n",
        "\n",
        "< 이것이 취업을 위한 코딩 테스트다 with 파이썬 >\n",
        "07. 이진 탐색\n",
        "\n",
        "< 파이썬 알고리즘 인터뷰 >\n",
        "18. 이진 검색 \n",
        "\n",
        "leetcode 문제풀이"
      ],
      "metadata": {
        "id": "yER6l2YSz4ZV"
      }
    },
    {
      "cell_type": "markdown",
      "source": [
        "# **07. 이진 탐색** \n",
        "##### (p.185-\n",
        "\n",
        "\n",
        "+) : 추가로 찾아본 내용\n",
        "\n",
        "~ : 공부 메모"
      ],
      "metadata": {
        "id": "GnKt80OppR0r"
      }
    },
    {
      "cell_type": "markdown",
      "source": [
        "## **1. 범위를 반씩 좁혀가는 탐색**"
      ],
      "metadata": {
        "id": "hm8rbeorVCmn"
      }
    },
    {
      "cell_type": "markdown",
      "source": [
        "### **순차 탐색sequential search**"
      ],
      "metadata": {
        "id": "Pze0IOmdsklU"
      }
    },
    {
      "cell_type": "markdown",
      "source": [
        ": 리스트 안에 있는 특정한 데이터를 찾기 위해 데이터 정렬 여부와 상관없이 앞에서부터 데이터를 하나씩 차례대로 확인하는 방법\n",
        "\n",
        "- 활용 : 정렬되지 않은 리스트에서 데이터를 찾아야 할 때 사용\n",
        "    - 리스트에 특정 값의 원소가 존재하는지 체크\n",
        "    - 리스트 자료형에서 특정한 값을 가지는 원소 개수를 세는 count() 메서드 이용시\n",
        "- 장점 : 리스트 내에 데이터가 아무리 많아도 시간만 충분하다면 항상 원하는 원소를 찾을 수 있다\n",
        "- 시간복잡도 : O(N) : 데이터 개수가 N개일 때 최대 N번의 비교 연산 필요"
      ],
      "metadata": {
        "id": "zbhztwxeVIkm"
      }
    },
    {
      "cell_type": "code",
      "source": [
        "# 순차 탐색 소스코드\n",
        "\n",
        "def sequential_search(n, target, array):\n",
        "  # 각 원소를 하나씩 확인하며\n",
        "  for i in range(n):\n",
        "    # 현재의 원소가 찾고자 하는 원소와 동일한 경우\n",
        "    if array[i] == target:\n",
        "      return i + 1 # 현재의 위치 반환 (인덱스는 0부터 시작하므로 1 더하기)\n",
        "\n",
        "print(\"생성할 원소 개수를 입력한 다음 한 칸 띄고 찾을 문자열을 입력하세요.\")\n",
        "input_data = input().split()\n",
        "n = int(input_data[0])   # 원소의 개수\n",
        "target = input_data[1]   # 찾고자 하는 문자열\n",
        "\n",
        "print(\"앞서 적은 원소 개수만큼 문자열을 입력하세요. 구분의 띄어쓰기 한 칸으로 합니다.\")\n",
        "array = input().split()\n",
        "\n",
        "# 순차 탐색 수행 결과 출력\n",
        "print(sequential_search(n, target, array))"
      ],
      "metadata": {
        "colab": {
          "base_uri": "https://localhost:8080/"
        },
        "id": "hKvzdkX-VIBJ",
        "outputId": "5681ff1b-122a-49b0-c510-98bc6ca0d508"
      },
      "execution_count": 1,
      "outputs": [
        {
          "output_type": "stream",
          "name": "stdout",
          "text": [
            "생성할 원소 개수를 입력한 다음 한 칸 띄고 찾을 문자열을 입력하세요.\n",
            "5 Dongbin\n",
            "앞서 적은 원소 개수만큼 문자열을 입력하세요. 구분의 띄어쓰기 한 칸으로 합니다.\n",
            "Hanul Jonggu Dongbin Taeil Sangwook\n",
            "3\n"
          ]
        }
      ]
    },
    {
      "cell_type": "markdown",
      "source": [
        ""
      ],
      "metadata": {
        "id": "VF1OmgJIYC7y"
      }
    },
    {
      "cell_type": "markdown",
      "source": [
        ""
      ],
      "metadata": {
        "id": "M0x4-IsrYDDX"
      }
    },
    {
      "cell_type": "markdown",
      "source": [
        "### **이진 탐색binary search** : 반으로 쪼개면서 탐색하기"
      ],
      "metadata": {
        "id": "tO_5Sn6Dsouu"
      }
    },
    {
      "cell_type": "markdown",
      "source": [
        ": 배열 내부의 데이터가 **정렬**되어 있어야만 사용할 수 있는 알고리즘\n",
        "\n",
        "~ 통계에서의 중앙값, 절사평균, 가중중앙값처럼 정렬!이 중요한 포인트\n",
        "\n",
        "- 한 번 확인할 때마다 전체 데이터 개수에서 (평균적으로) 절반씩 줄어들도록 만든다 ~ 퀵정렬과 공통점\n",
        "- 위치를 나타내는 변수 3가지 사용 : 탐색하고자 하는 범위의 시작점, 끝점, 그리고 중간점\n",
        "    - 찾으려는 데이터와 중간점 위치에 있는 데이터를 반복적으로 비교해서 원하는 데이터를 찾는다\n",
        "- 시간복잡도 : O(logN)"
      ],
      "metadata": {
        "id": "rAHgu1lJYDd6"
      }
    },
    {
      "cell_type": "code",
      "source": [
        "# 재귀 함수로 구현한 이진 탐색 소스코드\n",
        "\n",
        "def binary_search(array, target, start, end):\n",
        "  # 정렬이 되어있지 않으면 return none\n",
        "  if start > end :\n",
        "    return None\n",
        "  mid = (start+end) // 2\n",
        "  # 찾은 경우 중간점 인덱스 반환\n",
        "  if array[mid] == target:\n",
        "    return mid\n",
        "  # 중간점의 값보다 찾고자 하는 값이 작은 경우 왼쪽 확인\n",
        "  elif array[mid] > target:\n",
        "    return binary_search(array, target, start, mid-1)\n",
        "  # 중간점의 값보다 찾고자 하는 값이 큰 경우 오른쪽 확인\n",
        "  else :\n",
        "    return binary_search(array, target, mid+1, end)\n",
        "  \n",
        "# n(원소의 개수)과 target(찾고자 하는 문자열)을 입력받기\n",
        "n, target = list(map(int, input().split()))\n",
        "# 전체 원소 입력받기\n",
        "array = list(map(int, input().split()))\n",
        "\n",
        "# 이진 탐색 수행 결과 출력\n",
        "result = binary_search(array, target, 0, n-1)\n",
        "if result == None:\n",
        "  print('원소가 존재하지 않습니다.')\n",
        "else :\n",
        "  print(result  +1)\n"
      ],
      "metadata": {
        "colab": {
          "base_uri": "https://localhost:8080/"
        },
        "id": "t16WbexsVGLP",
        "outputId": "9e8f456e-aa5b-4031-dab3-0c57996a5d1a"
      },
      "execution_count": 3,
      "outputs": [
        {
          "output_type": "stream",
          "name": "stdout",
          "text": [
            "10 7\n",
            "1 3 5 7 9 11 13 15 17 19\n",
            "4\n"
          ]
        }
      ]
    },
    {
      "cell_type": "markdown",
      "source": [
        "+) 재귀함수란"
      ],
      "metadata": {
        "id": "cyYX18O1fNV2"
      }
    },
    {
      "cell_type": "markdown",
      "source": [
        "+) class self 파라미터"
      ],
      "metadata": {
        "id": "JSnbzpj8pooJ"
      }
    },
    {
      "cell_type": "code",
      "source": [
        ""
      ],
      "metadata": {
        "id": "A1NjbHWlfM50"
      },
      "execution_count": null,
      "outputs": []
    },
    {
      "cell_type": "code",
      "source": [
        "# 반복문으로 구현한 이진 탐색 소스코드\n",
        "\n",
        "def binary_search(array, target, start, end):\n",
        "  while start <= end:\n",
        "    mid = (start + end) // 2\n",
        "    # 찾은 경우 중간점 인덱스 반환\n",
        "    if array[mid] == target :\n",
        "      return mid\n",
        "    # 중간점의 값보다 찾고자 하는 값이 작은 경우 왼쪽 확인\n",
        "    elif array[mid] > target :\n",
        "      end = mid-1\n",
        "    # 중간점의 값보다 찾고자 하는 값이 큰 경우 오른쪽 확인\n",
        "    else: \n",
        "      start = mid + 1\n",
        "  return None\n",
        "\n",
        "n, target = list(map(int, input().split()))\n",
        "\n",
        "array = list(map(int, input().split()))\n",
        "\n",
        "result = binary_search(array, target, 0, n-1)\n",
        "if result == None:\n",
        "  print(\"원소가 존재하지 않습니다.\")\n",
        "else:\n",
        "  print(result + 1)"
      ],
      "metadata": {
        "colab": {
          "base_uri": "https://localhost:8080/"
        },
        "id": "SLQ1NxKjbH2l",
        "outputId": "de641fe2-a345-40e1-fdfc-d4e2d39b84de"
      },
      "execution_count": 4,
      "outputs": [
        {
          "output_type": "stream",
          "name": "stdout",
          "text": [
            "10 7\n",
            "1 3 5 7 9 11 13 15 17 19\n",
            "4\n"
          ]
        }
      ]
    },
    {
      "cell_type": "markdown",
      "source": [
        " **코딩 테스트에서의 이진 탐색**"
      ],
      "metadata": {
        "id": "yCd3uc3VtJ4w"
      }
    },
    {
      "cell_type": "markdown",
      "source": [
        "  - 탐색 범위가 2,000만을 넘어가면 이진 탐색으로 접근해본다\n",
        "  - 처리해야 할 데이터의 개수나 값이 1,000만 단위 이상으로 넘어가면 이진 탐색과 같이 O(logN)의 속도를 내야 하는 알고리즘이 필요하다"
      ],
      "metadata": {
        "id": "ORpgLTI_tF5G"
      }
    },
    {
      "cell_type": "markdown",
      "source": [
        ""
      ],
      "metadata": {
        "id": "IwqfPglYnV_3"
      }
    },
    {
      "cell_type": "markdown",
      "source": [
        ""
      ],
      "metadata": {
        "id": "kRqrb7ODnWJB"
      }
    },
    {
      "cell_type": "markdown",
      "source": [
        "### **트리 자료구조**\n"
      ],
      "metadata": {
        "id": "uoiA6xuDs67r"
      }
    },
    {
      "cell_type": "markdown",
      "source": [
        ": 노드와 노드의 연결로 표현된 그래프 자료구조의 일종으로 데이터베이스 시스템이나 파일 시스템과 같은 곳에서 많은 양의 데이터를 관리하기 위한 목적으로 사용한다\n",
        "\n",
        "    - 노드 : 정보의 단위, 어떠한 정보를 가지고 있는 개체, 최단 경로에서는 '도시'와 같은 정점의 의미를 가진다\n",
        "- 데이터베이스는 내부적으로 대용량 데이터 처리에 적합한 트리 자료구조를 이용하여 항상 데이터가 정렬되어 있다\n",
        "\n",
        "- 트리 자료구조 특징\n",
        "    - 트리는 부모 노드와 자식 노드의 관계로 표현\n",
        "    - 루트 노드 : 트리의 최상단 노드\n",
        "    - 단말 노드 : 트리의 최하단 노드\n",
        "    - 서브 트리 : 트리에서 일부를 떼어낸 트리 구조\n",
        "    - 파일 시스템과 같이 계틍적이고 정렬!!!된 데이터를 다루기에 적합\n"
      ],
      "metadata": {
        "id": "mGtX8mt2nWPB"
      }
    },
    {
      "cell_type": "markdown",
      "source": [
        "### **이진 탐색 트리**"
      ],
      "metadata": {
        "id": "Z0462dLBtNi2"
      }
    },
    {
      "cell_type": "markdown",
      "source": [
        ": 트리 자료구조 중에서 가장 간단한 형태, 이진 탐색이 동작할 수 있도록 고안된, 효율적인 탐색이 가능한 자료구조\n",
        "\n",
        "\n",
        "- 이진 탐색 트리 특징\n",
        "    - 부모 노드보다\n",
        "        - 왼쪽 자식 노드가 작다\n",
        "        - 오른쪽 자식 노드가 크다\n",
        "    - 즉, 왼쪽 자식 노드 < 부모 노드 < 오른쪽 자식 노드 가 성립한다\n",
        "    \n",
        "    ~ 부모 노드가 mid값이 되어 target값을 찾기 위해 왼쪽을 버리는지 오른쪽을 버리는지의 문제가 되는거구나"
      ],
      "metadata": {
        "id": "kUihO4g5rb2-"
      }
    },
    {
      "cell_type": "markdown",
      "source": [
        "**빠르게 입력받기**"
      ],
      "metadata": {
        "id": "s70lNqFctSID"
      }
    },
    {
      "cell_type": "markdown",
      "source": [
        "- 데이터의 개수가 1,000만 개를 넘어가거나 탐색 범위의 크기가 1,000억 이상이라면 이진 탐색 알고리즘을 의심하자\n",
        "\n",
        "- sys 라이브러리의 readline() 함수 사용 : 입력 데이터의 개수가 많은 문제에 input() 함수를 사용하면 동작 속도가 느려서 시간 초과로 오답 판정을 받을 수 있으므로 readline() 함수를 사용하여 시간 초과를 피한다\n",
        "\n",
        "- sys 라이브러리 사용시 한 줄 입력받은 후 rstrip() 함수 호출 필수 : readline() 사용시 엔터가 줄 바꿈 기호로 입력되는 것을 제거하기 위해서 필요하다 "
      ],
      "metadata": {
        "id": "FwOGM1cBtU3q"
      }
    },
    {
      "cell_type": "code",
      "source": [
        "# 한 줄 입력받아 출력하는 소스코드\n",
        "\n",
        "import sys\n",
        "# 하나의 문자열 데이터 입력받기\n",
        "input_data = sys.stdin.readline().rstrip()\n",
        "\n",
        "# 입력받은 문자열 그대로 출력\n",
        "print(input_data)\n",
        "\n",
        "\n",
        "# colab에서는 sys 라이브러리가 제대로 작동하지 않아 확인 불가!"
      ],
      "metadata": {
        "colab": {
          "base_uri": "https://localhost:8080/"
        },
        "id": "VDAG9MQPp-Jj",
        "outputId": "3cf4384f-28de-4ab9-fc97-0022e74cf8b7"
      },
      "execution_count": 13,
      "outputs": [
        {
          "output_type": "stream",
          "name": "stdout",
          "text": [
            "\n"
          ]
        }
      ]
    },
    {
      "cell_type": "markdown",
      "source": [
        "## **2. 부품찾기**"
      ],
      "metadata": {
        "id": "BaebUEL3zmtn"
      }
    },
    {
      "cell_type": "markdown",
      "source": [
        "동빈이네 전자 매장에는 부품이 N개 있다. 각 부품은 정수 형태의 고유한 번호가 있다. 어느 날 손님이 M개 종류의 부품을 대량으로 구매하겠다며 당일 날 견적서를 요청했다. 동빈이는 때를 놓치지 않고 손님이 문의한 부품 M개 종류를 모두 확인해서 견적서를 작성해야 한다. 이때 가게 안에 부품이 모두 있는지 확인하는 프로그램을 작성해보자.\n",
        "예를 들어 가게의 부품이 총 5개일 때 부품 번호가 다음과 같다고 하자.\n",
        "\n",
        "N = 5\n",
        "\n",
        "[8, 3, 7, 9, 2]\n",
        "\n",
        "손님은 총 3개의 부품이 있는지 확인 요청했는데 부품 번호는 다음과 같다.\n",
        "\n",
        "\n",
        "M = 3\n",
        "\n",
        "[5, 7, 9]\n",
        "\n",
        "이때 손님이 요청한 부품 번호의 순서대로 부품을 확인해 부품이 있으면 yes를, 없으면 no를 출력한다.\n",
        "\n",
        "구분은 공백으로 한다."
      ],
      "metadata": {
        "id": "1RHwTOahzyM2"
      }
    },
    {
      "cell_type": "markdown",
      "source": [
        "입력 조건\n",
        "- 첫째 줄에 정수 N이 주어진다 (1 <= N <= 1,000,000)\n",
        "- 둘째 줄에는 공백으로 구분하여 N개의 정수가 주어진다. 이때 정수는 1보다 크고 1,000,000 이하이다\n",
        "- 셋째 줄에는 정수 M이 주어진자 (1 <= M <= 100,000)\n",
        "- 넷째 줄에는 공백으로 구분하여 M개의 정수가 주어진다. 이때 정수는 1보다 크고 1,000,000 이하이다"
      ],
      "metadata": {
        "id": "JiylULQA1asY"
      }
    },
    {
      "cell_type": "markdown",
      "source": [
        "출력 조건\n",
        "- 첫째 줄에 공백으로 구분하여 각 부품이 존재하면 yes, 없으면 no를 출력한다"
      ],
      "metadata": {
        "id": "5frvbPSi1wxD"
      }
    },
    {
      "cell_type": "code",
      "source": [
        "# 이진 탐색을 활용한 답안 예시\n",
        "\n",
        "def binary_search(array, target, start, end):\n",
        "  while start < end :\n",
        "    mid = (start + end) // 2\n",
        "    # 찾은 경우 중간점 인덱스 반환\n",
        "    if array[mid] == target:\n",
        "      return mid\n",
        "    # 중간점의 값보다 찾고자 하는 값이 작은 경우 왼쪽 확인\n",
        "    elif array[mid] > target:\n",
        "      end = mid - 1\n",
        "    # 중간점의 값보다 찾고자 하는 값이 큰 경우 오른쪽 확인\n",
        "    else:\n",
        "      start = mid + 1\n",
        "  return None\n",
        "\n",
        "\n",
        "# n(가게의 부품 개수) 입력\n",
        "n = int(input())\n",
        "# 가게에 있는 전체 부품 번호를 공백으로 구분하여 입력\n",
        "array_n = list(map(int, input().split()))\n",
        "array_n.sort()   # 이진 탐색 수행을 위해 사전에 정렬 수행\n",
        "\n",
        "# m (손님이 확인 요청한 부품 개수) 입력\n",
        "m = int(input())\n",
        "# 손님이 확인 요청한 전체 부품 번호를 공백으로 구분하여 입력\n",
        "array_m = list(map(int, input().split()))\n",
        "\n",
        "# 손님이 확인 요청한 부품 번호를 하나씩 확인\n",
        "for i in array_m:\n",
        "  # 해당 부품이 존재하는지 확인\n",
        "  result = binary_search(array_n, i, 0, n-1)\n",
        "  if result != None:\n",
        "    print('yes', end=' ')\n",
        "  else:\n",
        "    print('no', end=' ')"
      ],
      "metadata": {
        "colab": {
          "base_uri": "https://localhost:8080/"
        },
        "id": "oPkNUV661Wo8",
        "outputId": "ad9536f0-3d7b-450e-e0b0-5414e2b65ab5"
      },
      "execution_count": 17,
      "outputs": [
        {
          "output_type": "stream",
          "name": "stdout",
          "text": [
            "5\n",
            "1 3 5 7 9\n",
            "3\n",
            "1 4 9\n",
            "yes no no "
          ]
        }
      ]
    },
    {
      "cell_type": "code",
      "source": [
        ""
      ],
      "metadata": {
        "id": "ojdOQ8JB1CJr"
      },
      "execution_count": null,
      "outputs": []
    },
    {
      "cell_type": "code",
      "source": [
        "# 계수 정렬을 활용한 답안 예시\n",
        "\n",
        "# n(가게의 부품 개수)을 입력받기\n",
        "n = int(input())\n",
        "array = [0] * 1000001   # 모든 원소의 번호를 포함할 수 있는 크기의 리스트 생성\n",
        "\n",
        "# 가게에 있는 전체 부품 번호를 입력받아서 기록\n",
        "for i in input().split():\n",
        "  array[int(i)] = 1\n",
        "\n",
        "# m(손님이 확인 요청한 부품 개수)을 입력받기\n",
        "m = int(input())\n",
        "# 손님이 확인 요청한 전체 부품 번호를 공백으로 구분하여 입력\n",
        "x = list(map(int, input().split()))\n",
        "\n",
        "# 손님이 확인 요청한 부품 번호를 하나씩 확인\n",
        "for i in x:\n",
        "  # 해당 부품이 존재하는지 확인\n",
        "  if array[i] == 1:\n",
        "    print('yes', end=' ')\n",
        "  else:\n",
        "    print('no', end=' ')"
      ],
      "metadata": {
        "colab": {
          "base_uri": "https://localhost:8080/"
        },
        "id": "pJqwP4QCe4y_",
        "outputId": "02047f1f-7e69-49bd-d135-9ed9e66bcae7"
      },
      "execution_count": 18,
      "outputs": [
        {
          "output_type": "stream",
          "name": "stdout",
          "text": [
            "5\n",
            "1 3 5 7 9\n",
            "4\n",
            "3 7 8 1\n",
            "yes yes no yes "
          ]
        }
      ]
    },
    {
      "cell_type": "code",
      "source": [
        "# 집합 자료형을 활용한 답안 예시\n",
        "\n",
        "# n (가게의 부품 개수)을 입력받기\n",
        "n = int(input())\n",
        "# 가게에 있는 전체 부품 번호를 입력받아서 집합(set) 자료형에 기록\n",
        "array = set(map(int, input().split()))   # set() 함수로 집합 자료형 초기화\n",
        "\n",
        "# m (손님이 확인 요청한 부품 개수)을 입력받기\n",
        "m = int(input())\n",
        "# 손님이 확인 요청한 전체 부품 번호를 공백으로 구분하여 입력\n",
        "x = list(map(int, input().split()))\n",
        "\n",
        "# 손님이 확인 요청한 부품 번호를 하나씩 확인\n",
        "for i in x:\n",
        "  # 해당 부품이 존재하는지 확인\n",
        "  if i in array:\n",
        "    print('yes', end=' ')\n",
        "  else:\n",
        "    print('no', end=' ')"
      ],
      "metadata": {
        "colab": {
          "base_uri": "https://localhost:8080/"
        },
        "id": "-TJNa04CRX7O",
        "outputId": "639e4133-00d5-4433-fc5f-79e98d459e0c"
      },
      "execution_count": 31,
      "outputs": [
        {
          "output_type": "stream",
          "name": "stdout",
          "text": [
            "5\n",
            "10 10 10 3 4 \n",
            "3\n",
            "10 1 4\n",
            "yes no yes "
          ]
        }
      ]
    },
    {
      "cell_type": "markdown",
      "source": [
        "## **3. 떡볶이 떡 만들기**"
      ],
      "metadata": {
        "id": "QRJvhLlxTCHk"
      }
    },
    {
      "cell_type": "markdown",
      "source": [
        "오늘 동빈이는 여행 가신 부모님을 대신해서 떡집 일을 하기로 했다. 오늘은 떡볶이 떡을 만드는 날이다. 동빈이네 떡볶이 떡은 재밌게도 떡볶이 떡의 길이가 일정하지 않다. 대신에 한 봉지 안에 들어가는 떡의 총 길이는 절단기로 잘라서 맞춘다.\n",
        "\n",
        "절단기에 높이(H)를 지정하면 줄지어진 떡을 한 번에 절단한다. 높이가 H보다 긴 떡은 H 위의 부분이 잘릴 것이고, 낮은 떡은 잘리지 않는다.\n",
        "\n",
        "예를 들어 높이가 19, 14, 10, 17cm인 떡이 나란히 있고 절단기 높이를 15cm로 지정하면 자른 뒤 떡의 높이는 15, 14, 10, 15cm가 될 것이다. 잘린 떡의 길이는 차례대로 4, 0, 0, 2cm이다. 손님은 6cm만큼의 길이를 가져간다.\n",
        "\n",
        "손님이 왔을 때 요청한 길이가 M일 때 적어도 M만큼의 떡을 얻기 위해 절단기에 설정할 수 있는 높이의 최댓값을 구하는 프로그램을 작성하시오."
      ],
      "metadata": {
        "id": "kHBrEPfVTIO-"
      }
    },
    {
      "cell_type": "markdown",
      "source": [
        "입력 조건\n",
        "- 첫째 줄에 떡의 개수 N과 요청한 떡의 길이 M이 주어진다. (1 <= N <= 1,000,000, 1 <= M <= 2,000,000,000)\n",
        "- 둘째 줄에는 떡의 개별 높이가 주어진다. 떡 높이의 총합은 항상 M 이상이므로, 손님은 필요한 양만큼 떡을 사갈 수 있다. 높이는 10억보다 작거나 같은 양의 정수 또는 0이다."
      ],
      "metadata": {
        "id": "9vgsbxAKT6py"
      }
    },
    {
      "cell_type": "markdown",
      "source": [
        "출력 조건\n",
        "- 적어도 M만큼의 떡을 집에 가져가기 위해 절단기에 설정할 수 있는 높이의 최댓값을 출력한다"
      ],
      "metadata": {
        "id": "Wio0C5aNUS6o"
      }
    },
    {
      "cell_type": "code",
      "source": [
        "\n",
        "\n",
        "# 입력조건 1 \n",
        "n, m = map(int, input().split(' '))\n",
        "\n",
        "# 입력조건 2\n",
        "array = list(map(int, input().split()))\n",
        "\n",
        "# 출력조건 1\n",
        "\n",
        "start = 0\n",
        "end = max(array)\n",
        "\n",
        "\n",
        "result = 0   # 절단기 높이\n",
        "while(start <= end):\n",
        "  total = 0   # 손님이 가져갈 떡의 양 m\n",
        "  mid = (start + end) // 2\n",
        "  for x in array:\n",
        "    if x > mid:\n",
        "      total += x - mid\n",
        "  if total < m:\n",
        "    end = mid - 1\n",
        "  else:\n",
        "    result = mid\n",
        "    start = mid + 1\n",
        "\n",
        "\n",
        "print(result)\n",
        "\n",
        "    \n",
        "\n"
      ],
      "metadata": {
        "colab": {
          "base_uri": "https://localhost:8080/"
        },
        "id": "UertoZVUSn4X",
        "outputId": "a0faf754-0b1a-4a07-a3d2-e4ff264630b2"
      },
      "execution_count": 35,
      "outputs": [
        {
          "output_type": "stream",
          "name": "stdout",
          "text": [
            "4 17\n",
            "20 30 23 10\n",
            "18\n"
          ]
        }
      ]
    },
    {
      "cell_type": "markdown",
      "source": [
        ""
      ],
      "metadata": {
        "id": "B6ZlPcDoYXMf"
      }
    },
    {
      "cell_type": "markdown",
      "source": [
        ""
      ],
      "metadata": {
        "id": "DydAx6TMYXT0"
      }
    },
    {
      "cell_type": "markdown",
      "source": [
        "# **18장. 이진 검색**"
      ],
      "metadata": {
        "id": "pvmbGy6xYYK6"
      }
    },
    {
      "cell_type": "markdown",
      "source": [
        "- 이진 탐색 트리와의 차이점\n",
        "  - 이진 탐색 트리 : 정렬된 구조 저장 및 탐색에 사용하는 자료구조\n",
        "  - 이진 검색 : 정렬된 배열에서 값을 찾아내는 알고리즘 자체"
      ],
      "metadata": {
        "id": "yXTjJMABYqKI"
      }
    },
    {
      "cell_type": "markdown",
      "source": [
        "### **leetcode 704**"
      ],
      "metadata": {
        "id": "87A2ujHdZLSg"
      }
    },
    {
      "cell_type": "markdown",
      "source": [
        "정렬된 nums를 입력받아 이진 검색으로 target에 해당하는 인덱스를 찾아라"
      ],
      "metadata": {
        "id": "EtuPdogCZcmi"
      }
    },
    {
      "cell_type": "markdown",
      "source": [
        "- 입력\n",
        "\n",
        "    nums = [-1, 0, 3, 5, 9, 12],  target = 9\n",
        "\n",
        "- 출력\n",
        "\n",
        "    4"
      ],
      "metadata": {
        "id": "PgRODhFOZiST"
      }
    },
    {
      "cell_type": "code",
      "source": [
        "# 재귀 풀이\n",
        "\n",
        "def dearch(self, nums: List[int], target: int) -> int:\n",
        "\n",
        "  def binary_serach(left, right):\n",
        "    if left <= right:\n",
        "      mid = (left + right) // 2\n",
        "\n",
        "      if nums[mid] < target:\n",
        "        return binary_search(mid+1, right)\n",
        "      elif nums[mid] > target:\n",
        "        return binary_search(left, mid-1)\n",
        "      else:\n",
        "        return mid\n",
        "    else:\n",
        "      return -1\n",
        "  return binary_search(0, len(nums) - 1)"
      ],
      "metadata": {
        "colab": {
          "base_uri": "https://localhost:8080/",
          "height": 241
        },
        "id": "30fNfI8eYmUC",
        "outputId": "ded79c30-1a66-4180-ec3b-5b83e206318b"
      },
      "execution_count": 36,
      "outputs": [
        {
          "output_type": "error",
          "ename": "NameError",
          "evalue": "ignored",
          "traceback": [
            "\u001b[0;31m---------------------------------------------------------------------------\u001b[0m",
            "\u001b[0;31mNameError\u001b[0m                                 Traceback (most recent call last)",
            "\u001b[0;32m<ipython-input-36-13c4e257cbcc>\u001b[0m in \u001b[0;36m<module>\u001b[0;34m()\u001b[0m\n\u001b[1;32m      1\u001b[0m \u001b[0;31m# 재귀 풀이\u001b[0m\u001b[0;34m\u001b[0m\u001b[0;34m\u001b[0m\u001b[0;34m\u001b[0m\u001b[0m\n\u001b[1;32m      2\u001b[0m \u001b[0;34m\u001b[0m\u001b[0m\n\u001b[0;32m----> 3\u001b[0;31m \u001b[0;32mdef\u001b[0m \u001b[0mdearch\u001b[0m\u001b[0;34m(\u001b[0m\u001b[0mself\u001b[0m\u001b[0;34m,\u001b[0m \u001b[0mnums\u001b[0m\u001b[0;34m:\u001b[0m \u001b[0mList\u001b[0m\u001b[0;34m[\u001b[0m\u001b[0mint\u001b[0m\u001b[0;34m]\u001b[0m\u001b[0;34m,\u001b[0m \u001b[0mtarget\u001b[0m\u001b[0;34m:\u001b[0m \u001b[0mint\u001b[0m\u001b[0;34m)\u001b[0m \u001b[0;34m->\u001b[0m \u001b[0mint\u001b[0m\u001b[0;34m:\u001b[0m\u001b[0;34m\u001b[0m\u001b[0;34m\u001b[0m\u001b[0m\n\u001b[0m\u001b[1;32m      4\u001b[0m \u001b[0;34m\u001b[0m\u001b[0m\n\u001b[1;32m      5\u001b[0m   \u001b[0;32mdef\u001b[0m \u001b[0mbinary_serach\u001b[0m\u001b[0;34m(\u001b[0m\u001b[0mleft\u001b[0m\u001b[0;34m,\u001b[0m \u001b[0mright\u001b[0m\u001b[0;34m)\u001b[0m\u001b[0;34m:\u001b[0m\u001b[0;34m\u001b[0m\u001b[0;34m\u001b[0m\u001b[0m\n",
            "\u001b[0;31mNameError\u001b[0m: name 'List' is not defined"
          ]
        }
      ]
    },
    {
      "cell_type": "code",
      "source": [
        ""
      ],
      "metadata": {
        "id": "6StaYTqtmWFV"
      },
      "execution_count": null,
      "outputs": []
    }
  ]
}